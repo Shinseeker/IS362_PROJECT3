{
 "cells": [
  {
   "cell_type": "markdown",
   "metadata": {},
   "source": [
    "**Project 3**\n",
    "\n",
    "Your assignment involves combining information from a number of SQL tables, then displaying the information in a pandas DataFrame.\n"
   ]
  },
  {
   "cell_type": "code",
   "execution_count": 54,
   "metadata": {
    "collapsed": false
   },
   "outputs": [],
   "source": [
    "#used sqlite for this assignment & loaded packages\n",
    "import  pandas as pd\n",
    "import sqlite3\n",
    "from sqlalchemy import create_engine"
   ]
  },
  {
   "cell_type": "code",
   "execution_count": 55,
   "metadata": {
    "collapsed": false
   },
   "outputs": [],
   "source": [
    "#Read and connect to the data\n",
    "con = sqlite3.connect(\"C:/Users/jake/Desktop/Chinook/Chinook_Sqlite.sqlite\")\n",
    "tracks = pd.read_sql_query(\"SELECT * from Track\", con=con)"
   ]
  },
  {
   "cell_type": "markdown",
   "metadata": {},
   "source": [
    "**Create a pandas DataFrame** \n",
    "\n",
    "A DataFrame that displays Customers’ Last Name and First Name, and each customer’s purchased Track names and Album Titles. What the first five rows of your results should look like?"
   ]
  },
  {
   "cell_type": "code",
   "execution_count": 52,
   "metadata": {
    "collapsed": false
   },
   "outputs": [
    {
     "data": {
      "text/html": [
       "<div>\n",
       "<table border=\"1\" class=\"dataframe\">\n",
       "  <thead>\n",
       "    <tr style=\"text-align: right;\">\n",
       "      <th></th>\n",
       "      <th>LastName</th>\n",
       "      <th>FirstName</th>\n",
       "      <th>InvoiceId</th>\n",
       "      <th>InvoiceId</th>\n",
       "      <th>Name</th>\n",
       "      <th>Title</th>\n",
       "    </tr>\n",
       "  </thead>\n",
       "  <tbody>\n",
       "    <tr>\n",
       "      <th>0</th>\n",
       "      <td>Almeida</td>\n",
       "      <td>Roberto</td>\n",
       "      <td>34</td>\n",
       "      <td>34</td>\n",
       "      <td>Right Next Door to Hell</td>\n",
       "      <td>Use Your Illusion I</td>\n",
       "    </tr>\n",
       "    <tr>\n",
       "      <th>1</th>\n",
       "      <td>Almeida</td>\n",
       "      <td>Roberto</td>\n",
       "      <td>155</td>\n",
       "      <td>155</td>\n",
       "      <td>In The Evening</td>\n",
       "      <td>In Through The Out Door</td>\n",
       "    </tr>\n",
       "    <tr>\n",
       "      <th>2</th>\n",
       "      <td>Almeida</td>\n",
       "      <td>Roberto</td>\n",
       "      <td>155</td>\n",
       "      <td>155</td>\n",
       "      <td>Fool In The Rain</td>\n",
       "      <td>In Through The Out Door</td>\n",
       "    </tr>\n",
       "    <tr>\n",
       "      <th>3</th>\n",
       "      <td>Almeida</td>\n",
       "      <td>Roberto</td>\n",
       "      <td>166</td>\n",
       "      <td>166</td>\n",
       "      <td>Saudade Dos Aviões Da Panair (Conversando No Bar)</td>\n",
       "      <td>Minas</td>\n",
       "    </tr>\n",
       "    <tr>\n",
       "      <th>4</th>\n",
       "      <td>Almeida</td>\n",
       "      <td>Roberto</td>\n",
       "      <td>166</td>\n",
       "      <td>166</td>\n",
       "      <td>Caso Você Queira Saber</td>\n",
       "      <td>Minas</td>\n",
       "    </tr>\n",
       "  </tbody>\n",
       "</table>\n",
       "</div>"
      ],
      "text/plain": [
       "  LastName FirstName  InvoiceId  InvoiceId  \\\n",
       "0  Almeida   Roberto         34         34   \n",
       "1  Almeida   Roberto        155        155   \n",
       "2  Almeida   Roberto        155        155   \n",
       "3  Almeida   Roberto        166        166   \n",
       "4  Almeida   Roberto        166        166   \n",
       "\n",
       "                                                Name                    Title  \n",
       "0                            Right Next Door to Hell      Use Your Illusion I  \n",
       "1                                     In The Evening  In Through The Out Door  \n",
       "2                                   Fool In The Rain  In Through The Out Door  \n",
       "3  Saudade Dos Aviões Da Panair (Conversando No Bar)                    Minas  \n",
       "4                             Caso Você Queira Saber                    Minas  "
      ]
     },
     "execution_count": 52,
     "metadata": {},
     "output_type": "execute_result"
    }
   ],
   "source": [
    "# Perform query: sql\n",
    "sql = '''SELECT c.LastName, c.FirstName, i.InvoiceId, il.InvoiceId, t.Name, a.Title\n",
    "         FROM Customer as c\n",
    "         INNER JOIN Invoice as i\n",
    "         ON c.CustomerId = i.CustomerId\n",
    "         INNER JOIN InvoiceLine as il\n",
    "         ON i.InvoiceId = il.InvoiceId\n",
    "         INNER JOIN Track as t\n",
    "         ON il.TrackId = t.TrackId\n",
    "         INNER JOIN Album as a\n",
    "         ON t.AlbumId = a.AlbumId\n",
    "         ORDER BY c.LastName, c.FirstName'''\n",
    "\n",
    "con = sqlite3.connect(\"C:/Users/jake/Desktop/Chinook/Chinook_Sqlite.sqlite\")\n",
    "pd.read_sql_query(sql , con=con).head(5)"
   ]
  },
  {
   "cell_type": "markdown",
   "metadata": {},
   "source": [
    "**Verifying the data**\n",
    "\n",
    "I noticed that the database must be slightly off from the example on the assignment so i wrote another query to determine if the data that I queried was wrong.\n",
    "\n",
    "Note I don't see Almeida ROberto when i search for Sex Machine."
   ]
  },
  {
   "cell_type": "code",
   "execution_count": 57,
   "metadata": {
    "collapsed": false
   },
   "outputs": [
    {
     "data": {
      "text/html": [
       "<div>\n",
       "<table border=\"1\" class=\"dataframe\">\n",
       "  <thead>\n",
       "    <tr style=\"text-align: right;\">\n",
       "      <th></th>\n",
       "      <th>LastName</th>\n",
       "      <th>FirstName</th>\n",
       "      <th>InvoiceId</th>\n",
       "      <th>Name</th>\n",
       "      <th>Title</th>\n",
       "    </tr>\n",
       "  </thead>\n",
       "  <tbody>\n",
       "    <tr>\n",
       "      <th>0</th>\n",
       "      <td>Kovács</td>\n",
       "      <td>Ladislav</td>\n",
       "      <td>151</td>\n",
       "      <td>Out Of Sight</td>\n",
       "      <td>Sex Machine</td>\n",
       "    </tr>\n",
       "    <tr>\n",
       "      <th>1</th>\n",
       "      <td>Kovács</td>\n",
       "      <td>Ladislav</td>\n",
       "      <td>151</td>\n",
       "      <td>Get Up (I Feel Like Being A) Sex Machine</td>\n",
       "      <td>Sex Machine</td>\n",
       "    </tr>\n",
       "    <tr>\n",
       "      <th>2</th>\n",
       "      <td>Kovács</td>\n",
       "      <td>Ladislav</td>\n",
       "      <td>151</td>\n",
       "      <td>It's Too Funky In Here</td>\n",
       "      <td>Sex Machine</td>\n",
       "    </tr>\n",
       "    <tr>\n",
       "      <th>...</th>\n",
       "      <td>...</td>\n",
       "      <td>...</td>\n",
       "      <td>...</td>\n",
       "      <td>...</td>\n",
       "      <td>...</td>\n",
       "    </tr>\n",
       "    <tr>\n",
       "      <th>9</th>\n",
       "      <td>Stevens</td>\n",
       "      <td>Victor</td>\n",
       "      <td>256</td>\n",
       "      <td>Papa's Got A Brand New Bag Pt.1</td>\n",
       "      <td>Sex Machine</td>\n",
       "    </tr>\n",
       "    <tr>\n",
       "      <th>10</th>\n",
       "      <td>Stevens</td>\n",
       "      <td>Victor</td>\n",
       "      <td>256</td>\n",
       "      <td>Hey America</td>\n",
       "      <td>Sex Machine</td>\n",
       "    </tr>\n",
       "    <tr>\n",
       "      <th>11</th>\n",
       "      <td>Stevens</td>\n",
       "      <td>Victor</td>\n",
       "      <td>256</td>\n",
       "      <td>Living In America</td>\n",
       "      <td>Sex Machine</td>\n",
       "    </tr>\n",
       "  </tbody>\n",
       "</table>\n",
       "<p>12 rows × 5 columns</p>\n",
       "</div>"
      ],
      "text/plain": [
       "   LastName FirstName  InvoiceId                                      Name  \\\n",
       "0    Kovács  Ladislav        151                              Out Of Sight   \n",
       "1    Kovács  Ladislav        151  Get Up (I Feel Like Being A) Sex Machine   \n",
       "2    Kovács  Ladislav        151                    It's Too Funky In Here   \n",
       "..      ...       ...        ...                                       ...   \n",
       "9   Stevens    Victor        256           Papa's Got A Brand New Bag Pt.1   \n",
       "10  Stevens    Victor        256                               Hey America   \n",
       "11  Stevens    Victor        256                         Living In America   \n",
       "\n",
       "          Title  \n",
       "0   Sex Machine  \n",
       "1   Sex Machine  \n",
       "2   Sex Machine  \n",
       "..          ...  \n",
       "9   Sex Machine  \n",
       "10  Sex Machine  \n",
       "11  Sex Machine  \n",
       "\n",
       "[12 rows x 5 columns]"
      ]
     },
     "execution_count": 57,
     "metadata": {},
     "output_type": "execute_result"
    }
   ],
   "source": [
    "sql = '''SELECT c.LastName, c.FirstName, i.InvoiceId, t.Name, a.Title\n",
    "         FROM Customer as c\n",
    "         INNER JOIN Invoice as i\n",
    "         ON c.CustomerId = i.CustomerId\n",
    "         INNER JOIN InvoiceLine as il\n",
    "         ON i.InvoiceId = il.InvoiceId\n",
    "         INNER JOIN Track as t\n",
    "         ON il.TrackId = t.TrackId\n",
    "         INNER JOIN Album as a\n",
    "         ON t.AlbumId = a.AlbumId\n",
    "         WHERE a.TItle = 'Sex Machine'\n",
    "         ORDER BY c.LastName, c.FirstName'''\n",
    "         \n",
    "con = sqlite3.connect(\"C:/Users/jake/Desktop/Chinook/Chinook_Sqlite.sqlite\")\n",
    "pd.read_sql_query(sql , con=con)"
   ]
  },
  {
   "cell_type": "markdown",
   "metadata": {
    "collapsed": true
   },
   "source": [
    "**CONCLUSION**\n",
    "\n"
   ]
  },
  {
   "cell_type": "code",
   "execution_count": null,
   "metadata": {
    "collapsed": false,
    "scrolled": true
   },
   "outputs": [],
   "source": []
  },
  {
   "cell_type": "code",
   "execution_count": null,
   "metadata": {
    "collapsed": true
   },
   "outputs": [],
   "source": []
  }
 ],
 "metadata": {
  "kernelspec": {
   "display_name": "Python 3",
   "language": "python",
   "name": "python3"
  },
  "language_info": {
   "codemirror_mode": {
    "name": "ipython",
    "version": 3
   },
   "file_extension": ".py",
   "mimetype": "text/x-python",
   "name": "python",
   "nbconvert_exporter": "python",
   "pygments_lexer": "ipython3",
   "version": "3.6.0"
  }
 },
 "nbformat": 4,
 "nbformat_minor": 2
}
